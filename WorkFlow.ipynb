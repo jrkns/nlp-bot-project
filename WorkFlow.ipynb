{
 "cells": [
  {
   "cell_type": "code",
   "execution_count": 1,
   "metadata": {},
   "outputs": [
    {
     "name": "stderr",
     "output_type": "stream",
     "text": [
      "Using TensorFlow backend.\n"
     ]
    }
   ],
   "source": [
    "from state_machine import StateMachine\n",
    "from ai import compute\n",
    "%load_ext autoreload\n",
    "%autoreload 2"
   ]
  },
  {
   "cell_type": "code",
   "execution_count": 2,
   "metadata": {},
   "outputs": [],
   "source": [
    "def print_token(text, token):\n",
    "    print(text)"
   ]
  },
  {
   "cell_type": "code",
   "execution_count": 22,
   "metadata": {},
   "outputs": [],
   "source": [
    "state = StateMachine(print_token, token='asdpifojawe')"
   ]
  },
  {
   "cell_type": "markdown",
   "metadata": {},
   "source": [
    "# With real input"
   ]
  },
  {
   "cell_type": "code",
   "execution_count": 23,
   "metadata": {},
   "outputs": [],
   "source": [
    "all_data = compute('วันนี้เรียนที่ไหน')\n",
    "this_intention = all_data['intent']\n",
    "this_information = all_data['frame']"
   ]
  },
  {
   "cell_type": "code",
   "execution_count": 24,
   "metadata": {},
   "outputs": [
    {
     "name": "stdout",
     "output_type": "stream",
     "text": [
      "วิชาอะไรเหรอ\n"
     ]
    }
   ],
   "source": [
    "state.get_input(this_intention, this_information)"
   ]
  },
  {
   "cell_type": "code",
   "execution_count": 25,
   "metadata": {},
   "outputs": [],
   "source": [
    "all_data = compute('NLP')\n",
    "this_intention = all_data['intent']\n",
    "this_information = all_data['frame']"
   ]
  },
  {
   "cell_type": "code",
   "execution_count": 26,
   "metadata": {},
   "outputs": [
    {
     "name": "stdout",
     "output_type": "stream",
     "text": [
      "answer_place\n"
     ]
    }
   ],
   "source": [
    "state.get_input(this_intention, this_information)"
   ]
  },
  {
   "cell_type": "markdown",
   "metadata": {},
   "source": [
    "# with temp Input"
   ]
  },
  {
   "cell_type": "code",
   "execution_count": 30,
   "metadata": {},
   "outputs": [],
   "source": [
    "state = StateMachine(print_token, token='asdpifojawe')"
   ]
  },
  {
   "cell_type": "code",
   "execution_count": 31,
   "metadata": {},
   "outputs": [
    {
     "name": "stdout",
     "output_type": "stream",
     "text": [
      "วิชาอะไรเหรอ\n"
     ]
    }
   ],
   "source": [
    "test_intention = 'place'\n",
    "test_new_information = {\n",
    "    'cmd': '',\n",
    "    'course': '',\n",
    "    'period': '',\n",
    "}\n",
    "state.get_input(test_intention, test_new_information)"
   ]
  },
  {
   "cell_type": "code",
   "execution_count": 32,
   "metadata": {},
   "outputs": [
    {
     "name": "stdout",
     "output_type": "stream",
     "text": [
      "answer_place\n"
     ]
    }
   ],
   "source": [
    "test_intention = ''\n",
    "test_new_information = {\n",
    "    'cmd': '',\n",
    "    'course': 'NLP',\n",
    "    'period': '',\n",
    "}\n",
    "state.get_input(test_intention, test_new_information)"
   ]
  }
 ],
 "metadata": {
  "kernelspec": {
   "display_name": "Python 3",
   "language": "python",
   "name": "python3"
  },
  "language_info": {
   "codemirror_mode": {
    "name": "ipython",
    "version": 3
   },
   "file_extension": ".py",
   "mimetype": "text/x-python",
   "name": "python",
   "nbconvert_exporter": "python",
   "pygments_lexer": "ipython3",
   "version": "3.6.1"
  }
 },
 "nbformat": 4,
 "nbformat_minor": 2
}
